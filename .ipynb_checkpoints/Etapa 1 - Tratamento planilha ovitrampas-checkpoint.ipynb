{
 "cells": [
  {
   "cell_type": "markdown",
   "metadata": {},
   "source": [
    "# PUC Minas\n",
    "\n",
    "## Pós Graduação em Ciência de Dados e Big Data\n",
    "\n",
    "## Trabalho de Conclusão de Curso\n",
    "\n",
    "### Título: MODELOS PREDITIVOS PARA DETECÇÃO DE OVOS EM OVITRAMPAS A PARTIR DO CLIMA\n",
    "\n",
    "### Aluno: Nathalia Machado Domingos Souza Lima"
   ]
  },
  {
   "cell_type": "markdown",
   "metadata": {},
   "source": [
    "Este notebook é referente ao Trabalho de Conclusão de Curso em Ciência de Dados e Big Data. Neste trabalho o dataset de ovitrampas foi baixado no Portal de Dados Abertos de Prefeitura de Belo Horizonte e os dados metoreológicos foram baixados do site do Instituo Nacional de Metereologia (INMET), ambos referentes aos dados do ano de 2017."
   ]
  },
  {
   "cell_type": "markdown",
   "metadata": {},
   "source": [
    "# CARREGAMENTO E TRATAMENTO DE DADOS"
   ]
  },
  {
   "cell_type": "code",
   "execution_count": 1,
   "metadata": {},
   "outputs": [],
   "source": [
    "import pandas as pd"
   ]
  },
  {
   "cell_type": "code",
   "execution_count": 2,
   "metadata": {},
   "outputs": [],
   "source": [
    "# Abrindo arquivo\n",
    "ovi = pd.read_csv('dataset_analise_armadilhas_ovitrampas_ref012017-102017.csv', sep = ',')"
   ]
  },
  {
   "cell_type": "code",
   "execution_count": 3,
   "metadata": {},
   "outputs": [
    {
     "data": {
      "text/html": [
       "<div>\n",
       "<style scoped>\n",
       "    .dataframe tbody tr th:only-of-type {\n",
       "        vertical-align: middle;\n",
       "    }\n",
       "\n",
       "    .dataframe tbody tr th {\n",
       "        vertical-align: top;\n",
       "    }\n",
       "\n",
       "    .dataframe thead th {\n",
       "        text-align: right;\n",
       "    }\n",
       "</style>\n",
       "<table border=\"1\" class=\"dataframe\">\n",
       "  <thead>\n",
       "    <tr style=\"text-align: right;\">\n",
       "      <th></th>\n",
       "      <th>Area de Abrangencia</th>\n",
       "      <th>Semana Epidemiologica</th>\n",
       "      <th>Data da Instalacao</th>\n",
       "      <th>Data da Coleta</th>\n",
       "      <th>Status</th>\n",
       "    </tr>\n",
       "  </thead>\n",
       "  <tbody>\n",
       "    <tr>\n",
       "      <th>0</th>\n",
       "      <td>C.S.REGINA</td>\n",
       "      <td>1</td>\n",
       "      <td>02/01/2017</td>\n",
       "      <td>09/01/2017</td>\n",
       "      <td>NEGATIVO</td>\n",
       "    </tr>\n",
       "    <tr>\n",
       "      <th>1</th>\n",
       "      <td>C.S.REGINA</td>\n",
       "      <td>1</td>\n",
       "      <td>02/01/2017</td>\n",
       "      <td>09/01/2017</td>\n",
       "      <td>NEGATIVO</td>\n",
       "    </tr>\n",
       "    <tr>\n",
       "      <th>2</th>\n",
       "      <td>C.S.REGINA</td>\n",
       "      <td>1</td>\n",
       "      <td>02/01/2017</td>\n",
       "      <td>09/01/2017</td>\n",
       "      <td>NEGATIVO</td>\n",
       "    </tr>\n",
       "    <tr>\n",
       "      <th>3</th>\n",
       "      <td>C.S.REGINA</td>\n",
       "      <td>1</td>\n",
       "      <td>02/01/2017</td>\n",
       "      <td>09/01/2017</td>\n",
       "      <td>NEGATIVO</td>\n",
       "    </tr>\n",
       "    <tr>\n",
       "      <th>4</th>\n",
       "      <td>C.S.REGINA</td>\n",
       "      <td>1</td>\n",
       "      <td>02/01/2017</td>\n",
       "      <td>09/01/2017</td>\n",
       "      <td>POSITIVO</td>\n",
       "    </tr>\n",
       "  </tbody>\n",
       "</table>\n",
       "</div>"
      ],
      "text/plain": [
       "  Area de Abrangencia  Semana Epidemiologica Data da Instalacao  \\\n",
       "0          C.S.REGINA                      1         02/01/2017   \n",
       "1          C.S.REGINA                      1         02/01/2017   \n",
       "2          C.S.REGINA                      1         02/01/2017   \n",
       "3          C.S.REGINA                      1         02/01/2017   \n",
       "4          C.S.REGINA                      1         02/01/2017   \n",
       "\n",
       "  Data da Coleta    Status  \n",
       "0     09/01/2017  NEGATIVO  \n",
       "1     09/01/2017  NEGATIVO  \n",
       "2     09/01/2017  NEGATIVO  \n",
       "3     09/01/2017  NEGATIVO  \n",
       "4     09/01/2017  POSITIVO  "
      ]
     },
     "execution_count": 3,
     "metadata": {},
     "output_type": "execute_result"
    }
   ],
   "source": [
    "ovi.head()"
   ]
  },
  {
   "cell_type": "code",
   "execution_count": 4,
   "metadata": {},
   "outputs": [
    {
     "name": "stdout",
     "output_type": "stream",
     "text": [
      "<class 'pandas.core.frame.DataFrame'>\n",
      "RangeIndex: 34810 entries, 0 to 34809\n",
      "Data columns (total 5 columns):\n",
      " #   Column                 Non-Null Count  Dtype \n",
      "---  ------                 --------------  ----- \n",
      " 0   Area de Abrangencia    34810 non-null  object\n",
      " 1   Semana Epidemiologica  34810 non-null  int64 \n",
      " 2   Data da Instalacao     34810 non-null  object\n",
      " 3   Data da Coleta         34809 non-null  object\n",
      " 4   Status                 34810 non-null  object\n",
      "dtypes: int64(1), object(4)\n",
      "memory usage: 1.3+ MB\n"
     ]
    }
   ],
   "source": [
    "# Verificando informações do dataset\n",
    "ovi.info()"
   ]
  },
  {
   "cell_type": "code",
   "execution_count": 5,
   "metadata": {},
   "outputs": [],
   "source": [
    "# Eliminando colunas que não serão usadas\n",
    "ovi2 = ovi.drop(columns=['Area de Abrangencia', 'Data da Instalacao',  'Data da Coleta'])"
   ]
  },
  {
   "cell_type": "code",
   "execution_count": 6,
   "metadata": {},
   "outputs": [
    {
     "data": {
      "text/html": [
       "<div>\n",
       "<style scoped>\n",
       "    .dataframe tbody tr th:only-of-type {\n",
       "        vertical-align: middle;\n",
       "    }\n",
       "\n",
       "    .dataframe tbody tr th {\n",
       "        vertical-align: top;\n",
       "    }\n",
       "\n",
       "    .dataframe thead th {\n",
       "        text-align: right;\n",
       "    }\n",
       "</style>\n",
       "<table border=\"1\" class=\"dataframe\">\n",
       "  <thead>\n",
       "    <tr style=\"text-align: right;\">\n",
       "      <th></th>\n",
       "      <th>Semana Epidemiologica</th>\n",
       "      <th>Status</th>\n",
       "    </tr>\n",
       "  </thead>\n",
       "  <tbody>\n",
       "    <tr>\n",
       "      <th>0</th>\n",
       "      <td>1</td>\n",
       "      <td>NEGATIVO</td>\n",
       "    </tr>\n",
       "    <tr>\n",
       "      <th>1</th>\n",
       "      <td>1</td>\n",
       "      <td>NEGATIVO</td>\n",
       "    </tr>\n",
       "    <tr>\n",
       "      <th>2</th>\n",
       "      <td>1</td>\n",
       "      <td>NEGATIVO</td>\n",
       "    </tr>\n",
       "    <tr>\n",
       "      <th>3</th>\n",
       "      <td>1</td>\n",
       "      <td>NEGATIVO</td>\n",
       "    </tr>\n",
       "    <tr>\n",
       "      <th>4</th>\n",
       "      <td>1</td>\n",
       "      <td>POSITIVO</td>\n",
       "    </tr>\n",
       "  </tbody>\n",
       "</table>\n",
       "</div>"
      ],
      "text/plain": [
       "   Semana Epidemiologica    Status\n",
       "0                      1  NEGATIVO\n",
       "1                      1  NEGATIVO\n",
       "2                      1  NEGATIVO\n",
       "3                      1  NEGATIVO\n",
       "4                      1  POSITIVO"
      ]
     },
     "execution_count": 6,
     "metadata": {},
     "output_type": "execute_result"
    }
   ],
   "source": [
    "ovi2.head()"
   ]
  },
  {
   "cell_type": "code",
   "execution_count": 7,
   "metadata": {},
   "outputs": [
    {
     "name": "stdout",
     "output_type": "stream",
     "text": [
      "Semana Epidemiologica    0\n",
      "Status                   0\n",
      "dtype: int64\n"
     ]
    }
   ],
   "source": [
    "# procurando valores nulos\n",
    "print(ovi2.isnull().sum())"
   ]
  },
  {
   "cell_type": "code",
   "execution_count": 8,
   "metadata": {},
   "outputs": [
    {
     "name": "stdout",
     "output_type": "stream",
     "text": [
      "Semana Epidemiologica    0\n",
      "Status                   0\n",
      "dtype: int64\n"
     ]
    }
   ],
   "source": [
    "# procurando células vazias\n",
    "print(ovi2.isna().sum())"
   ]
  },
  {
   "cell_type": "code",
   "execution_count": 9,
   "metadata": {},
   "outputs": [],
   "source": [
    "# Renomeando colunas\n",
    "ovi2.rename(columns={'Semana Epidemiologica': 'SemEpi',}, inplace = True)"
   ]
  },
  {
   "cell_type": "code",
   "execution_count": 10,
   "metadata": {},
   "outputs": [],
   "source": [
    "# Trocando POSITIVO por 1 e NEGATIVO por 0 para Modelos Preditivos\n",
    "\n",
    "def trocando_status(status):\n",
    "    if status == 'POSITIVO':\n",
    "        return 1\n",
    "    else:\n",
    "        return 0"
   ]
  },
  {
   "cell_type": "code",
   "execution_count": 11,
   "metadata": {},
   "outputs": [],
   "source": [
    "# Rodando a função de troca de status\n",
    "ovi2['Status'] = ovi2['Status'].map(trocando_status)"
   ]
  },
  {
   "cell_type": "code",
   "execution_count": 12,
   "metadata": {},
   "outputs": [
    {
     "data": {
      "text/html": [
       "<div>\n",
       "<style scoped>\n",
       "    .dataframe tbody tr th:only-of-type {\n",
       "        vertical-align: middle;\n",
       "    }\n",
       "\n",
       "    .dataframe tbody tr th {\n",
       "        vertical-align: top;\n",
       "    }\n",
       "\n",
       "    .dataframe thead th {\n",
       "        text-align: right;\n",
       "    }\n",
       "</style>\n",
       "<table border=\"1\" class=\"dataframe\">\n",
       "  <thead>\n",
       "    <tr style=\"text-align: right;\">\n",
       "      <th></th>\n",
       "      <th>SemEpi</th>\n",
       "      <th>Status</th>\n",
       "    </tr>\n",
       "  </thead>\n",
       "  <tbody>\n",
       "    <tr>\n",
       "      <th>0</th>\n",
       "      <td>1</td>\n",
       "      <td>0</td>\n",
       "    </tr>\n",
       "    <tr>\n",
       "      <th>1</th>\n",
       "      <td>1</td>\n",
       "      <td>0</td>\n",
       "    </tr>\n",
       "    <tr>\n",
       "      <th>2</th>\n",
       "      <td>1</td>\n",
       "      <td>0</td>\n",
       "    </tr>\n",
       "    <tr>\n",
       "      <th>3</th>\n",
       "      <td>1</td>\n",
       "      <td>0</td>\n",
       "    </tr>\n",
       "    <tr>\n",
       "      <th>4</th>\n",
       "      <td>1</td>\n",
       "      <td>1</td>\n",
       "    </tr>\n",
       "  </tbody>\n",
       "</table>\n",
       "</div>"
      ],
      "text/plain": [
       "   SemEpi  Status\n",
       "0       1       0\n",
       "1       1       0\n",
       "2       1       0\n",
       "3       1       0\n",
       "4       1       1"
      ]
     },
     "execution_count": 12,
     "metadata": {},
     "output_type": "execute_result"
    }
   ],
   "source": [
    "ovi2.head()"
   ]
  },
  {
   "cell_type": "code",
   "execution_count": 13,
   "metadata": {},
   "outputs": [],
   "source": [
    "# Salvando o arquivo tratatado\n",
    "ovi2.to_csv('ovi_SemEpi.csv', encoding='utf-8', index=False)"
   ]
  }
 ],
 "metadata": {
  "kernelspec": {
   "display_name": "Python 3",
   "language": "python",
   "name": "python3"
  },
  "language_info": {
   "codemirror_mode": {
    "name": "ipython",
    "version": 3
   },
   "file_extension": ".py",
   "mimetype": "text/x-python",
   "name": "python",
   "nbconvert_exporter": "python",
   "pygments_lexer": "ipython3",
   "version": "3.6.5"
  }
 },
 "nbformat": 4,
 "nbformat_minor": 2
}
