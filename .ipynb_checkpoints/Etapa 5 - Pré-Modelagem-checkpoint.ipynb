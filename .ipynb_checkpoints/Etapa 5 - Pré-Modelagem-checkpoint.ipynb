{
 "cells": [
  {
   "cell_type": "markdown",
   "id": "dominican-convertible",
   "metadata": {},
   "source": [
    "# Criação do modelo de regressão linear generalizado "
   ]
  },
  {
   "cell_type": "code",
   "execution_count": 1,
   "id": "hollow-verse",
   "metadata": {},
   "outputs": [],
   "source": [
    "# Carregar bibliotecas\n",
    "import pandas as pd\n",
    "import numpy as np\n",
    "import statsmodels.api as sm\n",
    "import statsmodels.formula.api as smf"
   ]
  },
  {
   "cell_type": "code",
   "execution_count": 2,
   "id": "steady-cattle",
   "metadata": {},
   "outputs": [],
   "source": [
    "# Abrindo datset\n",
    "ovi = pd.read_csv('ovi_clima.csv', sep=',')"
   ]
  },
  {
   "cell_type": "code",
   "execution_count": 3,
   "id": "cross-mention",
   "metadata": {},
   "outputs": [
    {
     "name": "stdout",
     "output_type": "stream",
     "text": [
      "                 Generalized Linear Model Regression Results                  \n",
      "==============================================================================\n",
      "Dep. Variable:                 Status   No. Observations:                34810\n",
      "Model:                            GLM   Df Residuals:                    34804\n",
      "Model Family:                Binomial   Df Model:                            5\n",
      "Link Function:                  logit   Scale:                          1.0000\n",
      "Method:                          IRLS   Log-Likelihood:                -21539.\n",
      "Date:                Fri, 30 Apr 2021   Deviance:                       43078.\n",
      "Time:                        11:11:36   Pearson chi2:                 3.48e+04\n",
      "No. Iterations:                     4                                         \n",
      "Covariance Type:            nonrobust                                         \n",
      "==============================================================================\n",
      "                 coef    std err          z      P>|z|      [0.025      0.975]\n",
      "------------------------------------------------------------------------------\n",
      "Intercept    -13.0823      0.376    -34.756      0.000     -13.820     -12.345\n",
      "precip        -0.8089      0.096     -8.450      0.000      -0.997      -0.621\n",
      "temp           0.1927      0.342      0.563      0.573      -0.478       0.863\n",
      "temp_min      -0.1597      0.226     -0.706      0.480      -0.603       0.283\n",
      "temp_max       0.3237      0.176      1.835      0.066      -0.022       0.669\n",
      "umid           0.0789      0.003     27.176      0.000       0.073       0.085\n",
      "==============================================================================\n"
     ]
    }
   ],
   "source": [
    "# Criação do modelo binomial\n",
    "modelo = smf.glm(formula='Status ~ precip + temp + temp_min + temp_max + umid', data=ovi,\n",
    "                family = sm.families.Binomial()).fit()\n",
    "print(modelo.summary())"
   ]
  },
  {
   "cell_type": "code",
   "execution_count": 4,
   "id": "russian-messenger",
   "metadata": {},
   "outputs": [],
   "source": [
    "# Vamos excluir temp_min, temp, do modelo pois não é significativo"
   ]
  }
 ],
 "metadata": {
  "kernelspec": {
   "display_name": "Python 3",
   "language": "python",
   "name": "python3"
  },
  "language_info": {
   "codemirror_mode": {
    "name": "ipython",
    "version": 3
   },
   "file_extension": ".py",
   "mimetype": "text/x-python",
   "name": "python",
   "nbconvert_exporter": "python",
   "pygments_lexer": "ipython3",
   "version": "3.6.5"
  }
 },
 "nbformat": 4,
 "nbformat_minor": 5
}
